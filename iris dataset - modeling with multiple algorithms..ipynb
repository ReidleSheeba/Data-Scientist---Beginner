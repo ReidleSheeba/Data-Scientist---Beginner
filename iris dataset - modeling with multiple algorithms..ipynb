{
 "cells": [
  {
   "cell_type": "code",
   "execution_count": 50,
   "metadata": {},
   "outputs": [
    {
     "name": "stdout",
     "output_type": "stream",
     "text": [
      "Python Version 3.7.6 (default, Jan  8 2020, 20:23:39) [MSC v.1916 64 bit (AMD64)]\n",
      "scipy Version 1.4.1\n",
      "numpy Version 1.18.1\n",
      "matplotlib Version 3.1.3\n",
      "pandas Version 1.0.1\n",
      "sklearn Version 0.22.1\n"
     ]
    }
   ],
   "source": [
    "#just checking the versions\n",
    "import sys\n",
    "print(\"Python Version\",format(sys.version))\n",
    "import scipy\n",
    "print('scipy Version',format(scipy.__version__))\n",
    "# numpy\n",
    "import numpy\n",
    "print('numpy Version',format(numpy.__version__))\n",
    "# matplotlib\n",
    "import matplotlib\n",
    "print('matplotlib Version',format(matplotlib.__version__))\n",
    "# pandas\n",
    "import pandas\n",
    "print('pandas Version',format(pandas.__version__))\n",
    "# scikit-learn\n",
    "import sklearn\n",
    "print('sklearn Version',format(sklearn.__version__))"
   ]
  },
  {
   "cell_type": "code",
   "execution_count": 51,
   "metadata": {},
   "outputs": [],
   "source": [
    "#import all of the modules, functions and objects\n",
    "from pandas import read_csv\n",
    "from pandas.plotting import scatter_matrix\n",
    "from matplotlib import pyplot as plt\n",
    "from sklearn.model_selection import train_test_split\n",
    "from sklearn.model_selection import cross_val_score\n",
    "from sklearn.model_selection import StratifiedKFold\n",
    "from sklearn.metrics import classification_report\n",
    "from sklearn.metrics import accuracy_score\n",
    "from sklearn.metrics import confusion_matrix\n",
    "from sklearn.linear_model import LogisticRegression\n",
    "from sklearn.tree import DecisionTreeClassifier\n",
    "from sklearn.neighbors import KNeighborsClassifier\n",
    "from sklearn.naive_bayes import GaussianNB\n",
    "from sklearn.discriminant_analysis import LinearDiscriminantAnalysis\n",
    "from sklearn.svm import SVC\n",
    "from sklearn.ensemble import RandomForestClassifier\n",
    "import warnings\n",
    "warnings.filterwarnings('ignore')"
   ]
  },
  {
   "cell_type": "markdown",
   "metadata": {},
   "source": [
    "# Load Dataset\n",
    "- We can load the data directly from the UCI Machine Learning repository\n",
    "- We are using pandas to load the data. \n",
    "- We will also use pandas next to explore the data both with descriptive statistics and data visualization"
   ]
  },
  {
   "cell_type": "code",
   "execution_count": 52,
   "metadata": {},
   "outputs": [],
   "source": [
    "names = ['sepal-length', 'sepal-width', 'petal-length', 'petal-width', 'class']\n",
    "data = read_csv('iris.csv', names = names)"
   ]
  },
  {
   "cell_type": "markdown",
   "metadata": {},
   "source": [
    "# Summarise the Dataset\n",
    "- Dimensions of the dataset.\n",
    "- Peek at the data itself.\n",
    "- Statistical summary of all attributes.\n",
    "- Breakdown of the data by the class variable."
   ]
  },
  {
   "cell_type": "code",
   "execution_count": 53,
   "metadata": {},
   "outputs": [
    {
     "data": {
      "text/plain": [
       "(150, 5)"
      ]
     },
     "execution_count": 53,
     "metadata": {},
     "output_type": "execute_result"
    }
   ],
   "source": [
    "# Dimensions of the dataset.\n",
    "data.shape"
   ]
  },
  {
   "cell_type": "code",
   "execution_count": 54,
   "metadata": {},
   "outputs": [
    {
     "data": {
      "text/html": [
       "<div>\n",
       "<style scoped>\n",
       "    .dataframe tbody tr th:only-of-type {\n",
       "        vertical-align: middle;\n",
       "    }\n",
       "\n",
       "    .dataframe tbody tr th {\n",
       "        vertical-align: top;\n",
       "    }\n",
       "\n",
       "    .dataframe thead th {\n",
       "        text-align: right;\n",
       "    }\n",
       "</style>\n",
       "<table border=\"1\" class=\"dataframe\">\n",
       "  <thead>\n",
       "    <tr style=\"text-align: right;\">\n",
       "      <th></th>\n",
       "      <th>sepal-length</th>\n",
       "      <th>sepal-width</th>\n",
       "      <th>petal-length</th>\n",
       "      <th>petal-width</th>\n",
       "      <th>class</th>\n",
       "    </tr>\n",
       "  </thead>\n",
       "  <tbody>\n",
       "    <tr>\n",
       "      <th>0</th>\n",
       "      <td>5.1</td>\n",
       "      <td>3.5</td>\n",
       "      <td>1.4</td>\n",
       "      <td>0.2</td>\n",
       "      <td>Iris-setosa</td>\n",
       "    </tr>\n",
       "    <tr>\n",
       "      <th>1</th>\n",
       "      <td>4.9</td>\n",
       "      <td>3.0</td>\n",
       "      <td>1.4</td>\n",
       "      <td>0.2</td>\n",
       "      <td>Iris-setosa</td>\n",
       "    </tr>\n",
       "    <tr>\n",
       "      <th>2</th>\n",
       "      <td>4.7</td>\n",
       "      <td>3.2</td>\n",
       "      <td>1.3</td>\n",
       "      <td>0.2</td>\n",
       "      <td>Iris-setosa</td>\n",
       "    </tr>\n",
       "    <tr>\n",
       "      <th>3</th>\n",
       "      <td>4.6</td>\n",
       "      <td>3.1</td>\n",
       "      <td>1.5</td>\n",
       "      <td>0.2</td>\n",
       "      <td>Iris-setosa</td>\n",
       "    </tr>\n",
       "    <tr>\n",
       "      <th>4</th>\n",
       "      <td>5.0</td>\n",
       "      <td>3.6</td>\n",
       "      <td>1.4</td>\n",
       "      <td>0.2</td>\n",
       "      <td>Iris-setosa</td>\n",
       "    </tr>\n",
       "  </tbody>\n",
       "</table>\n",
       "</div>"
      ],
      "text/plain": [
       "   sepal-length  sepal-width  petal-length  petal-width        class\n",
       "0           5.1          3.5           1.4          0.2  Iris-setosa\n",
       "1           4.9          3.0           1.4          0.2  Iris-setosa\n",
       "2           4.7          3.2           1.3          0.2  Iris-setosa\n",
       "3           4.6          3.1           1.5          0.2  Iris-setosa\n",
       "4           5.0          3.6           1.4          0.2  Iris-setosa"
      ]
     },
     "execution_count": 54,
     "metadata": {},
     "output_type": "execute_result"
    }
   ],
   "source": [
    "# Peek at the data itself.\n",
    "data.head()"
   ]
  },
  {
   "cell_type": "code",
   "execution_count": 55,
   "metadata": {},
   "outputs": [
    {
     "data": {
      "text/html": [
       "<div>\n",
       "<style scoped>\n",
       "    .dataframe tbody tr th:only-of-type {\n",
       "        vertical-align: middle;\n",
       "    }\n",
       "\n",
       "    .dataframe tbody tr th {\n",
       "        vertical-align: top;\n",
       "    }\n",
       "\n",
       "    .dataframe thead th {\n",
       "        text-align: right;\n",
       "    }\n",
       "</style>\n",
       "<table border=\"1\" class=\"dataframe\">\n",
       "  <thead>\n",
       "    <tr style=\"text-align: right;\">\n",
       "      <th></th>\n",
       "      <th>sepal-length</th>\n",
       "      <th>sepal-width</th>\n",
       "      <th>petal-length</th>\n",
       "      <th>petal-width</th>\n",
       "    </tr>\n",
       "  </thead>\n",
       "  <tbody>\n",
       "    <tr>\n",
       "      <th>count</th>\n",
       "      <td>150.000000</td>\n",
       "      <td>150.000000</td>\n",
       "      <td>150.000000</td>\n",
       "      <td>150.000000</td>\n",
       "    </tr>\n",
       "    <tr>\n",
       "      <th>mean</th>\n",
       "      <td>5.843333</td>\n",
       "      <td>3.054000</td>\n",
       "      <td>3.758667</td>\n",
       "      <td>1.198667</td>\n",
       "    </tr>\n",
       "    <tr>\n",
       "      <th>std</th>\n",
       "      <td>0.828066</td>\n",
       "      <td>0.433594</td>\n",
       "      <td>1.764420</td>\n",
       "      <td>0.763161</td>\n",
       "    </tr>\n",
       "    <tr>\n",
       "      <th>min</th>\n",
       "      <td>4.300000</td>\n",
       "      <td>2.000000</td>\n",
       "      <td>1.000000</td>\n",
       "      <td>0.100000</td>\n",
       "    </tr>\n",
       "    <tr>\n",
       "      <th>25%</th>\n",
       "      <td>5.100000</td>\n",
       "      <td>2.800000</td>\n",
       "      <td>1.600000</td>\n",
       "      <td>0.300000</td>\n",
       "    </tr>\n",
       "    <tr>\n",
       "      <th>50%</th>\n",
       "      <td>5.800000</td>\n",
       "      <td>3.000000</td>\n",
       "      <td>4.350000</td>\n",
       "      <td>1.300000</td>\n",
       "    </tr>\n",
       "    <tr>\n",
       "      <th>75%</th>\n",
       "      <td>6.400000</td>\n",
       "      <td>3.300000</td>\n",
       "      <td>5.100000</td>\n",
       "      <td>1.800000</td>\n",
       "    </tr>\n",
       "    <tr>\n",
       "      <th>max</th>\n",
       "      <td>7.900000</td>\n",
       "      <td>4.400000</td>\n",
       "      <td>6.900000</td>\n",
       "      <td>2.500000</td>\n",
       "    </tr>\n",
       "  </tbody>\n",
       "</table>\n",
       "</div>"
      ],
      "text/plain": [
       "       sepal-length  sepal-width  petal-length  petal-width\n",
       "count    150.000000   150.000000    150.000000   150.000000\n",
       "mean       5.843333     3.054000      3.758667     1.198667\n",
       "std        0.828066     0.433594      1.764420     0.763161\n",
       "min        4.300000     2.000000      1.000000     0.100000\n",
       "25%        5.100000     2.800000      1.600000     0.300000\n",
       "50%        5.800000     3.000000      4.350000     1.300000\n",
       "75%        6.400000     3.300000      5.100000     1.800000\n",
       "max        7.900000     4.400000      6.900000     2.500000"
      ]
     },
     "execution_count": 55,
     "metadata": {},
     "output_type": "execute_result"
    }
   ],
   "source": [
    "# Statistical summary of all attributes\n",
    "\n",
    "data.describe()\n",
    "\n",
    "# in the  o/p, We can see that all of the numerical values have the same scale (centimeters) and \n",
    "#similar ranges between 0 and 8 centimeters."
   ]
  },
  {
   "cell_type": "code",
   "execution_count": 56,
   "metadata": {},
   "outputs": [
    {
     "data": {
      "text/plain": [
       "class\n",
       "Iris-setosa        50\n",
       "Iris-versicolor    50\n",
       "Iris-virginica     50\n",
       "dtype: int64"
      ]
     },
     "execution_count": 56,
     "metadata": {},
     "output_type": "execute_result"
    }
   ],
   "source": [
    "# Breakdown of the data by the class variable. or Class Distribution\n",
    "\n",
    "# take a look at the number of instances (rows) that belong to each class. \n",
    "# We can view this as an absolute count\n",
    "\n",
    "data.groupby('class').size()"
   ]
  },
  {
   "cell_type": "markdown",
   "metadata": {},
   "source": [
    "# Data Visualization\n",
    "- Univariate plots to better understand each attribute.\n",
    "- Multivariate plots to better understand the relationships between attributes"
   ]
  },
  {
   "cell_type": "code",
   "execution_count": 57,
   "metadata": {},
   "outputs": [
    {
     "data": {
      "image/png": "[encoded data removed]",
      "text/plain": [
       "<Figure size 432x288 with 4 Axes>"
      ]
     },
     "metadata": {
      "needs_background": "light"
     },
     "output_type": "display_data"
    }
   ],
   "source": [
    "# Univariate plots to better understand each attribute.\n",
    "# plots of each individual variable\n",
    "# Given that the input variables are numeric, we can create box and whisker plots of each\n",
    "\n",
    "data.plot( kind = 'box', subplots = True, layout = (2,2), sharex = False, sharey = False)\n",
    "plt.show()"
   ]
  },
  {
   "cell_type": "code",
   "execution_count": 58,
   "metadata": {},
   "outputs": [],
   "source": [
    "#from the box plot, we can see there is outliers in the \"sepal-width\" \n",
    "# so inorder to remove the outliers....\n",
    "a = data['sepal-width']"
   ]
  },
  {
   "cell_type": "code",
   "execution_count": 59,
   "metadata": {},
   "outputs": [],
   "source": [
    "removed_outlierz = a.between(a.quantile(0.05),a.quantile(0.95))"
   ]
  },
  {
   "cell_type": "code",
   "execution_count": 60,
   "metadata": {},
   "outputs": [
    {
     "data": {
      "image/png": "[encoded data removed]",
      "text/plain": [
       "<Figure size 432x288 with 1 Axes>"
      ]
     },
     "metadata": {
      "needs_background": "light"
     },
     "output_type": "display_data"
    }
   ],
   "source": [
    "plt.boxplot(a[removed_outlierz]);"
   ]
  },
  {
   "cell_type": "code",
   "execution_count": 61,
   "metadata": {},
   "outputs": [
    {
     "data": {
      "text/plain": [
       "Text(0.5, 1.0, 'outlierz removed')"
      ]
     },
     "execution_count": 61,
     "metadata": {},
     "output_type": "execute_result"
    },
    {
     "data": {
      "image/png": "[encoded data removed]",
      "text/plain": [
       "<Figure size 1152x360 with 2 Axes>"
      ]
     },
     "metadata": {
      "needs_background": "light"
     },
     "output_type": "display_data"
    }
   ],
   "source": [
    "#after removing the outliez comparing the \"before\" and \"after\" boxplots\n",
    "figure, ax = plt.subplots(1,2, figsize =(16,5))\n",
    "ax[0].boxplot(a)\n",
    "ax[1].boxplot(a[removed_outlierz])\n",
    "\n",
    "ax[0].set_title(\"with outlierz\")\n",
    "ax[1].set_title(\"outlierz removed\")"
   ]
  },
  {
   "cell_type": "code",
   "execution_count": 62,
   "metadata": {},
   "outputs": [],
   "source": [
    "#now that we have removed the outlierz, bring that changes into the current dataset by creating a new column 'new_sepal-width'\n",
    "data['new_sepal-width'] = a[removed_outlierz]\n"
   ]
  },
  {
   "cell_type": "code",
   "execution_count": 63,
   "metadata": {},
   "outputs": [
    {
     "data": {
      "text/html": [
       "<div>\n",
       "<style scoped>\n",
       "    .dataframe tbody tr th:only-of-type {\n",
       "        vertical-align: middle;\n",
       "    }\n",
       "\n",
       "    .dataframe tbody tr th {\n",
       "        vertical-align: top;\n",
       "    }\n",
       "\n",
       "    .dataframe thead th {\n",
       "        text-align: right;\n",
       "    }\n",
       "</style>\n",
       "<table border=\"1\" class=\"dataframe\">\n",
       "  <thead>\n",
       "    <tr style=\"text-align: right;\">\n",
       "      <th></th>\n",
       "      <th>sepal-length</th>\n",
       "      <th>sepal-width</th>\n",
       "      <th>petal-length</th>\n",
       "      <th>petal-width</th>\n",
       "      <th>class</th>\n",
       "      <th>new_sepal-width</th>\n",
       "    </tr>\n",
       "  </thead>\n",
       "  <tbody>\n",
       "    <tr>\n",
       "      <th>0</th>\n",
       "      <td>5.1</td>\n",
       "      <td>3.5</td>\n",
       "      <td>1.4</td>\n",
       "      <td>0.2</td>\n",
       "      <td>Iris-setosa</td>\n",
       "      <td>3.5</td>\n",
       "    </tr>\n",
       "    <tr>\n",
       "      <th>1</th>\n",
       "      <td>4.9</td>\n",
       "      <td>3.0</td>\n",
       "      <td>1.4</td>\n",
       "      <td>0.2</td>\n",
       "      <td>Iris-setosa</td>\n",
       "      <td>3.0</td>\n",
       "    </tr>\n",
       "  </tbody>\n",
       "</table>\n",
       "</div>"
      ],
      "text/plain": [
       "   sepal-length  sepal-width  petal-length  petal-width        class  \\\n",
       "0           5.1          3.5           1.4          0.2  Iris-setosa   \n",
       "1           4.9          3.0           1.4          0.2  Iris-setosa   \n",
       "\n",
       "   new_sepal-width  \n",
       "0              3.5  \n",
       "1              3.0  "
      ]
     },
     "execution_count": 63,
     "metadata": {},
     "output_type": "execute_result"
    }
   ],
   "source": [
    "data.head(2)\n",
    "#as you can see a new colum will be added."
   ]
  },
  {
   "cell_type": "code",
   "execution_count": 64,
   "metadata": {},
   "outputs": [
    {
     "data": {
      "image/png": "[encoded data removed]",
      "text/plain": [
       "<Figure size 432x288 with 6 Axes>"
      ]
     },
     "metadata": {
      "needs_background": "light"
     },
     "output_type": "display_data"
    }
   ],
   "source": [
    "#create a histogram of each input variable to get an idea of the distribution\n",
    "data.hist()\n",
    "plt.show()\n",
    "#This is useful to note as we can use algorithms that can exploit this assumption."
   ]
  },
  {
   "cell_type": "code",
   "execution_count": 65,
   "metadata": {},
   "outputs": [
    {
     "data": {
      "image/png": "[encoded data removed]",
      "text/plain": [
       "<Figure size 432x288 with 25 Axes>"
      ]
     },
     "metadata": {
      "needs_background": "light"
     },
     "output_type": "display_data"
    }
   ],
   "source": [
    "#Multivariate Plots\n",
    "#Multivariate plots to better understand the relationships between attributes\n",
    "#ie, we can look at the interactions between the variables.\n",
    "#First, let’s look at scatterplots of all pairs of attributes. \n",
    "#This can be helpful to spot structured relationships between input variables.\n",
    "\n",
    "#scatter plot matrix\n",
    "scatter_matrix(data)\n",
    "plt.show()\n",
    "#in the o/p the diagonal grouping of some pairs of attributes. \n",
    "#This suggests a high correlation and a predictable relationship.\n"
   ]
  },
  {
   "cell_type": "markdown",
   "metadata": {},
   "source": [
    "## Evaluate Some Algorithms\n",
    "ie to create some models of the data and estimate their accuracy on unseen data\n",
    "- 1) Separate out a validation dataset.(splitting the data into train and test)\n",
    "- 2) Build multiple different models to predict species from flower measurements\n",
    "- 3) Set-up the test harness to use 10-fold cross validation.(eg: k-fold =5, and taking the avg accuracy)\n",
    "- 4) Select the best model."
   ]
  },
  {
   "cell_type": "markdown",
   "metadata": {},
   "source": [
    "## 1) Separate out a validation(test) dataset.(splitting the data into train and test)"
   ]
  },
  {
   "cell_type": "code",
   "execution_count": 66,
   "metadata": {},
   "outputs": [],
   "source": [
    "#define X and y\n",
    "#X = data.ilioc[:,:-1]\n",
    "#y = data.class\n",
    "#or we can use the python slice to select the columns in the NumPy array\n",
    "array = data.values\n",
    "X = array[:,0:4]\n",
    "y = array[:,4]"
   ]
  },
  {
   "cell_type": "code",
   "execution_count": 67,
   "metadata": {},
   "outputs": [],
   "source": [
    "#split the loaded dataset into two, 80% of which we will use to train, evaluate and select among our models, \n",
    "#and 20% that we will hold back as a validation(test) dataset.\n",
    "\n",
    "#X_train, X_test, y_train, y_test = train_test_split(X,y,test_size = 0.2,random_state = 1)\n",
    "X_train, X_validation, y_train, y_validation = train_test_split(X,y,test_size = 0.2,random_state = 1)\n",
    "\n",
    "#we now have training data in the X_train and Y_train for preparing models \n",
    "#and a X_validation and Y_validation sets that we can use later to predict the accuracy."
   ]
  },
  {
   "cell_type": "markdown",
   "metadata": {},
   "source": [
    "## 2) Build multiple different models to predict species from flower measurements\n",
    "- which algorithms is best suited for the iris dataset.\n",
    "\n",
    "\n",
    "Let’s test with different algorithms:\n",
    "\n",
    "- Logistic Regression (LR)\n",
    "- Linear Discriminant Analysis (LDA)\n",
    "- K-Nearest Neighbors (KNN).\n",
    "- Classification and Regression Trees (CART).\n",
    "- Gaussian Naive Bayes (NB).\n",
    "- Support Vector Machines (SVM).\n",
    "- RandomForestClassifier (RF)."
   ]
  },
  {
   "cell_type": "code",
   "execution_count": 68,
   "metadata": {},
   "outputs": [],
   "source": [
    "# The reason for taking all these algorithms is \n",
    "# to get a good mixture of simple linear (LR and LDA), nonlinear (KNN, CART, NB and SVM) algorithms.\n",
    "\n",
    "models = []\n",
    "models.append(('1)LR',LogisticRegression()))\n",
    "models.append(('2)LDA',LinearDiscriminantAnalysis()))\n",
    "models.append(('3)KNN',KNeighborsClassifier()))\n",
    "models.append(('4)CART',DecisionTreeClassifier()))\n",
    "models.append(('5)NB',GaussianNB()))\n",
    "models.append(('6)SVM', SVC()))\n",
    "models.append(('7)RF',RandomForestClassifier()))\n",
    "#note: not any of the above algorithms are fine tuned(can do that of course)\n",
    "#my intentiion is to run multiple algorithms on a single dataset and compare the accuracy obtained. )\n"
   ]
  },
  {
   "cell_type": "markdown",
   "metadata": {},
   "source": [
    "## 3) Set-up the test harness to use 10-fold cross validation.\n",
    "- Cross-validation is a resampling procedure used to evaluate machine learning models on a limited data sample.\n",
    "- \"k\" refers to the number of groups that a given data sample is to be split into, hence the name \"kfold\"\n",
    "- ie, k=10 becoming 10-fold cross-validation"
   ]
  },
  {
   "cell_type": "code",
   "execution_count": 69,
   "metadata": {},
   "outputs": [
    {
     "name": "stdout",
     "output_type": "stream",
     "text": [
      "1)LR: 0.966667 (0.040825)\n",
      "2)LDA: 0.975000 (0.038188)\n",
      "3)KNN: 0.958333 (0.041667)\n",
      "4)CART: 0.950000 (0.055277)\n",
      "5)NB: 0.950000 (0.055277)\n",
      "6)SVM: 0.966667 (0.040825)\n",
      "7)RF: 0.950000 (0.040825)\n"
     ]
    }
   ],
   "source": [
    "results = []\n",
    "names = []\n",
    "for name, model in models:\n",
    "    kfold = StratifiedKFold(n_splits = 10, random_state = 1, shuffle = True)\n",
    "    cv_results = cross_val_score(model, X_train, y_train, cv=kfold, scoring = 'accuracy')\n",
    "    results.append(cv_results)\n",
    "    names.append(names)\n",
    "    print(('%s: %f (%f)' % (name, cv_results.mean(), cv_results.std())))\n",
    "#literally we are just trying to findout the best model (with the best accuracy)\n",
    "# and then we'll use the same model with the test data, hence we get the best predictions."
   ]
  },
  {
   "cell_type": "code",
   "execution_count": 70,
   "metadata": {},
   "outputs": [
    {
     "data": {
      "image/png": "[encoded data removed]",
      "text/plain": [
       "<Figure size 432x288 with 1 Axes>"
      ]
     },
     "metadata": {
      "needs_background": "light"
     },
     "output_type": "display_data"
    }
   ],
   "source": [
    "#select the Best Model by creating a box and whisker plot for each distribution and compare the distributions.\n",
    "\n",
    "plt.boxplot(results)\n",
    "plt.title('Algorithm Comparison')\n",
    "plt.show()\n",
    "#We can see that the box and whisker plots are squashed at the top of the range, \n",
    "#with many evaluations achieving 100% accuracy, and some pushing down into the high 80% accuracies"
   ]
  },
  {
   "cell_type": "markdown",
   "metadata": {},
   "source": [
    "## Training and Prediction"
   ]
  },
  {
   "cell_type": "code",
   "execution_count": 71,
   "metadata": {},
   "outputs": [],
   "source": [
    "#choose a model to make the prediction, \n",
    "#It is valuable to keep a validation(test) set just in case you made a slip during training, \n",
    "#such as overfitting to the training set or a data leak. Both of these issues will result in an overly optimistic result.\n",
    "model = LogisticRegression()\n",
    "model.fit(X_train,y_train)\n",
    "y_predict = model.predict(X_validation)"
   ]
  },
  {
   "cell_type": "code",
   "execution_count": 72,
   "metadata": {},
   "outputs": [
    {
     "name": "stdout",
     "output_type": "stream",
     "text": [
      "0.9666666666666667\n",
      "[[11  0  0]\n",
      " [ 0 12  1]\n",
      " [ 0  0  6]]\n",
      "                 precision    recall  f1-score   support\n",
      "\n",
      "    Iris-setosa       1.00      1.00      1.00        11\n",
      "Iris-versicolor       1.00      0.92      0.96        13\n",
      " Iris-virginica       0.86      1.00      0.92         6\n",
      "\n",
      "       accuracy                           0.97        30\n",
      "      macro avg       0.95      0.97      0.96        30\n",
      "   weighted avg       0.97      0.97      0.97        30\n",
      "\n"
     ]
    }
   ],
   "source": [
    "#evaluate prediction\n",
    "\n",
    "print(accuracy_score(y_validation,y_predict))\n",
    "print(confusion_matrix(y_validation,y_predict))\n",
    "print(classification_report(y_validation,y_predict))"
   ]
  }
 ],
 "metadata": {
  "kernelspec": {
   "display_name": "Python 3",
   "language": "python",
   "name": "python3"
  },
  "language_info": {
   "codemirror_mode": {
    "name": "ipython",
    "version": 3
   },
   "file_extension": ".py",
   "mimetype": "text/x-python",
   "name": "python",
   "nbconvert_exporter": "python",
   "pygments_lexer": "ipython3",
   "version": "3.7.6"
  }
 },
 "nbformat": 4,
 "nbformat_minor": 2
}
