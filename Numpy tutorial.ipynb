{
 "cells": [
  {
   "cell_type": "markdown",
   "metadata": {},
   "source": [
    "## NumPy (Numerical Python) \n",
    "is a library for the Python programming language, adding support for large, multi-dimensional arrays and matrices, along with a large collection of high-level mathematical functions to operate on these arrays.\n",
    "\n",
    "Numpy provides the powerful data structure known as n-d array and function to manipulate that n-d array .This data structure is used by other library to represent complex data such as images."
   ]
  },
  {
   "cell_type": "code",
   "execution_count": 68,
   "metadata": {},
   "outputs": [],
   "source": [
    "#Importing Numpy package\n",
    "import numpy as np"
   ]
  },
  {
   "cell_type": "markdown",
   "metadata": {},
   "source": [
    "## Creating Array\n",
    "## 1-d Array\n",
    "- arrays are Homogeneous(can only contain a single datatype)"
   ]
  },
  {
   "cell_type": "code",
   "execution_count": 69,
   "metadata": {},
   "outputs": [
    {
     "name": "stdout",
     "output_type": "stream",
     "text": [
      "<class 'numpy.ndarray'>\n",
      "1 2 3\n",
      "[5 2 3]\n",
      "size of array : 3\n",
      "Dimention of aray : 1\n",
      "Shape of the array : (3,)\n",
      "Array Element Type : int32\n",
      "int64\n"
     ]
    }
   ],
   "source": [
    "a = np.array([1, 2, 3])   # Create a rank 1 array\n",
    "print(type(a))            # Prints \"<class 'numpy.ndarray'>\"\n",
    "print(a[0], a[1], a[2])   # Prints \"1 2 3\"\n",
    "a[0] = 5                  # Change an element of the array\n",
    "print(a)                        # Prints \"[5, 2, 3]\"\n",
    "print(\"size of array :\",a.size)        #number of elemnets\n",
    "print(\"Dimention of aray :\",a.ndim)    \n",
    "print(\"Shape of the array :\", a.shape)\n",
    "print(\"Array Element Type :\",a.dtype)\n",
    "\n",
    "\n",
    "x = np.array([1, 2], dtype=np.int64)   # Force a particular datatype\n",
    "print(x.dtype) "
   ]
  },
  {
   "cell_type": "markdown",
   "metadata": {},
   "source": [
    "## n-d Array"
   ]
  },
  {
   "cell_type": "code",
   "execution_count": 70,
   "metadata": {},
   "outputs": [
    {
     "name": "stdout",
     "output_type": "stream",
     "text": [
      "[[ 5  7 12]\n",
      " [ 7  9 15]]\n",
      "Size of array : 6\n",
      "Dimention of array : 2\n",
      "Shape of the array : (2, 3)\n",
      "Array Element Type : int32\n"
     ]
    }
   ],
   "source": [
    "#2d arrays are collection of 1d arrays\n",
    "\n",
    "a = np.array([[5,7,12],[7,9,15]])\n",
    "print(a)\n",
    "print(\"Size of array :\",a.size) #number of elemnets\n",
    "print(\"Dimention of array :\",a.ndim)\n",
    "print(\"Shape of the array :\", a.shape) # 2 elementin 2d, 3 element in 1d\n",
    "print(\"Array Element Type :\",a.dtype)"
   ]
  },
  {
   "cell_type": "code",
   "execution_count": 71,
   "metadata": {},
   "outputs": [
    {
     "name": "stdout",
     "output_type": "stream",
     "text": [
      "[[[ 5  7 12]\n",
      "  [ 7  9 15]\n",
      "  [ 7  9 15]]]\n",
      "Size of array : 9\n",
      "Dimention of array : 3\n",
      "Shape of the array : (1, 3, 3)\n",
      "Array Element Type : int32\n"
     ]
    }
   ],
   "source": [
    "# here we have 1 element in 3 dimension, 3 elementin 2d, 3 element in 1d\n",
    "\n",
    "a = np.array([[[5,7,12],[7,9,15],[7,9,15]]])\n",
    "print(a)\n",
    "print(\"Size of array :\",a.size)\n",
    "print(\"Dimention of array :\",a.ndim)\n",
    "print(\"Shape of the array :\", a.shape) # 1 element in 3 dimension, 3 elementin 2d, 3 element in 1d\n",
    "print(\"Array Element Type :\",a.dtype)"
   ]
  },
  {
   "cell_type": "markdown",
   "metadata": {},
   "source": [
    "## Predefined functions"
   ]
  },
  {
   "cell_type": "code",
   "execution_count": 72,
   "metadata": {},
   "outputs": [
    {
     "name": "stdout",
     "output_type": "stream",
     "text": [
      "[[0. 0.]\n",
      " [0. 0.]]\n",
      "\n",
      "\n",
      "[[1. 1.]]\n",
      "\n",
      "\n",
      "[[7 7]\n",
      " [7 7]]\n",
      "\n",
      "\n",
      "[[1. 0.]\n",
      " [0. 1.]]\n",
      "\n",
      "\n",
      "[[0.50611914 0.25763501]\n",
      " [0.51638238 0.59036317]]\n",
      "\n",
      "\n",
      "[1 2]\n",
      "\n",
      "\n",
      "[10 11 12 13 14 15 16 17 18 19]\n"
     ]
    }
   ],
   "source": [
    "a = np.zeros((2,2))   # Create an array of all zeros\n",
    "print(a)              \n",
    "print('\\n')\n",
    "b = np.ones((1,2))    # Create an array of all ones\n",
    "print(b)              \n",
    "print('\\n')\n",
    "c = np.full((2,2), 7)  # Create a constant array\n",
    "print(c)               \n",
    "\n",
    "print('\\n')\n",
    "d = np.eye(2)         # Create a 2x2 identity matrix\n",
    "print(d)              \n",
    "                      \n",
    "print('\\n')\n",
    "e = np.random.random((2,2))  # Create an array filled with random values, actually returns random nos b/w '0' and '1'\n",
    "print(e)                     \n",
    "                             \n",
    "print('\\n')\n",
    "f = np.arange(6)\n",
    "print(x)                     \n",
    "\n",
    "print('\\n')\n",
    "g = np.arange(10,20)\n",
    "print(g)"
   ]
  },
  {
   "cell_type": "markdown",
   "metadata": {},
   "source": [
    "## np.linspace(start,end,no.of elements)\n",
    "- linearly distributed space\n",
    "- always gives you float array"
   ]
  },
  {
   "cell_type": "code",
   "execution_count": 73,
   "metadata": {
    "scrolled": true
   },
   "outputs": [
    {
     "name": "stdout",
     "output_type": "stream",
     "text": [
      "[10. 20. 30. 40. 50.]\n"
     ]
    }
   ],
   "source": [
    "print(np.linspace(10,50,5)) #5 linearly distributed space between 10 to 50"
   ]
  },
  {
   "cell_type": "markdown",
   "metadata": {},
   "source": [
    "## Random Numbers\n",
    "- returns random numbers in b/n 0 and 1"
   ]
  },
  {
   "cell_type": "code",
   "execution_count": 74,
   "metadata": {},
   "outputs": [
    {
     "data": {
      "text/plain": [
       "0.8597119827316653"
      ]
     },
     "execution_count": 74,
     "metadata": {},
     "output_type": "execute_result"
    }
   ],
   "source": [
    "np.random.rand()"
   ]
  },
  {
   "cell_type": "code",
   "execution_count": 75,
   "metadata": {},
   "outputs": [
    {
     "data": {
      "text/plain": [
       "0.4236041543775184"
      ]
     },
     "execution_count": 75,
     "metadata": {},
     "output_type": "execute_result"
    }
   ],
   "source": [
    "np.random.random()"
   ]
  },
  {
   "cell_type": "code",
   "execution_count": 76,
   "metadata": {},
   "outputs": [
    {
     "data": {
      "text/plain": [
       "array([[13.63749464, 32.37845053, 24.57015692],\n",
       "       [54.87777387, 40.09620409, 27.32587286],\n",
       "       [70.73963545, 54.18131874, 44.92049513],\n",
       "       [75.00992903, 68.22428138, 12.57819123],\n",
       "       [70.76874055, 92.19561891, 40.55094121]])"
      ]
     },
     "execution_count": 76,
     "metadata": {},
     "output_type": "execute_result"
    }
   ],
   "source": [
    "np.random.rand(5,3)*100"
   ]
  },
  {
   "cell_type": "code",
   "execution_count": 77,
   "metadata": {},
   "outputs": [
    {
     "data": {
      "text/plain": [
       "9"
      ]
     },
     "execution_count": 77,
     "metadata": {},
     "output_type": "execute_result"
    }
   ],
   "source": [
    "np.random.randint(2,10) # to print any random number b/w 2 to 10"
   ]
  },
  {
   "cell_type": "code",
   "execution_count": 78,
   "metadata": {},
   "outputs": [
    {
     "data": {
      "text/plain": [
       "array([ 4, 16, 18,  5, 15,  5])"
      ]
     },
     "execution_count": 78,
     "metadata": {},
     "output_type": "execute_result"
    }
   ],
   "source": [
    "np.random.randint(3,20,6) # to print any 6 random numbers b/w 3 to 20 "
   ]
  },
  {
   "cell_type": "code",
   "execution_count": 79,
   "metadata": {},
   "outputs": [
    {
     "name": "stdout",
     "output_type": "stream",
     "text": [
      "[[ 2  3]\n",
      " [ 6  7]\n",
      " [10 11]]\n",
      "\n",
      "\n",
      "2\n",
      "\n",
      "\n",
      "77\n"
     ]
    }
   ],
   "source": [
    "# Create the following rank 2 array with shape (3, 4)\n",
    "# [[ 1  2  3  4]\n",
    "#  [ 5  6  7  8]\n",
    "#  [ 9 10 11 12]]\n",
    "a = np.array([[1,2,3,4], [5,6,7,8], [9,10,11,12]])\n",
    "\n",
    "# Use slicing to pull out the subarray consisting of the first 2 rows\n",
    "# and columns 1 and 2; b is the following array of shape (2, 2):\n",
    "# [[2 3]\n",
    "#  [6 7]]\n",
    "b = a[:3, 1:3]\n",
    "print(b)\n",
    "print('\\n')\n",
    "# A slice of an array is a view into the same data, so modifying it\n",
    "# will modify the original array.\n",
    "print(a[0, 1])   \n",
    "b[0, 0] = 77     # b[0, 0] is the same piece of data as a[0, 1], then,\n",
    "print('\\n')\n",
    "print(a[0, 1])   # Prints \"77\""
   ]
  },
  {
   "cell_type": "markdown",
   "metadata": {},
   "source": [
    "## Array Manipulation\n",
    "\n",
    "## Dimensional\n",
    "- Reshape\n",
    "- Ravel"
   ]
  },
  {
   "cell_type": "code",
   "execution_count": 80,
   "metadata": {},
   "outputs": [
    {
     "name": "stdout",
     "output_type": "stream",
     "text": [
      "[[64 51 69 54 92 98]\n",
      " [64 75 60 78 87 89]\n",
      " [74 76 92 91 66 69]\n",
      " [55 72 63 64 59 86]]\n"
     ]
    }
   ],
   "source": [
    "# Reshape\n",
    "a = np.random.randint(50,100,24).reshape(4,6)\n",
    "print(a)"
   ]
  },
  {
   "cell_type": "code",
   "execution_count": 81,
   "metadata": {},
   "outputs": [
    {
     "data": {
      "text/plain": [
       "array([64, 51, 69, 54, 92, 98, 64, 75, 60, 78, 87, 89, 74, 76, 92, 91, 66,\n",
       "       69, 55, 72, 63, 64, 59, 86])"
      ]
     },
     "execution_count": 81,
     "metadata": {},
     "output_type": "execute_result"
    }
   ],
   "source": [
    "# Ravel - opposite of Reshape\n",
    "\n",
    "a.ravel()"
   ]
  },
  {
   "cell_type": "code",
   "execution_count": 82,
   "metadata": {},
   "outputs": [
    {
     "data": {
      "text/plain": [
       "array([[64, 51, 69, 54],\n",
       "       [92, 98, 64, 75],\n",
       "       [60, 78, 87, 89],\n",
       "       [74, 76, 92, 91],\n",
       "       [66, 69, 55, 72],\n",
       "       [63, 64, 59, 86]])"
      ]
     },
     "execution_count": 82,
     "metadata": {},
     "output_type": "execute_result"
    }
   ],
   "source": [
    "a.ravel().reshape(6,4)"
   ]
  },
  {
   "cell_type": "markdown",
   "metadata": {},
   "source": [
    "## Split\n",
    "- horizontal \n",
    "- vertical"
   ]
  },
  {
   "cell_type": "code",
   "execution_count": 83,
   "metadata": {},
   "outputs": [
    {
     "data": {
      "text/plain": [
       "array([[33, 18, 13, 29, 40, 39],\n",
       "       [42, 47, 24, 13, 34, 15],\n",
       "       [37, 32, 36, 42, 11, 29],\n",
       "       [28, 38, 26, 11, 17, 45]])"
      ]
     },
     "execution_count": 83,
     "metadata": {},
     "output_type": "execute_result"
    }
   ],
   "source": [
    "a = np.random.randint(10,50,24).reshape(4,6)\n",
    "a"
   ]
  },
  {
   "cell_type": "code",
   "execution_count": 84,
   "metadata": {},
   "outputs": [
    {
     "data": {
      "text/plain": [
       "[array([[33, 18],\n",
       "        [42, 47],\n",
       "        [37, 32],\n",
       "        [28, 38]]),\n",
       " array([[13, 29],\n",
       "        [24, 13],\n",
       "        [36, 42],\n",
       "        [26, 11]]),\n",
       " array([[40, 39],\n",
       "        [34, 15],\n",
       "        [11, 29],\n",
       "        [17, 45]])]"
      ]
     },
     "execution_count": 84,
     "metadata": {},
     "output_type": "execute_result"
    }
   ],
   "source": [
    "# horizontal\n",
    "np.hsplit(a,3)"
   ]
  },
  {
   "cell_type": "code",
   "execution_count": 85,
   "metadata": {},
   "outputs": [
    {
     "data": {
      "text/plain": [
       "array([[37, 32, 36, 42, 11, 29],\n",
       "       [28, 38, 26, 11, 17, 45]])"
      ]
     },
     "execution_count": 85,
     "metadata": {},
     "output_type": "execute_result"
    }
   ],
   "source": [
    "# vertical\n",
    "np.vsplit(a,2)[1] # split and retreive the list of array\n",
    "# it is spliting from the main file\n",
    "#used during image processing etc."
   ]
  },
  {
   "cell_type": "markdown",
   "metadata": {},
   "source": [
    "## Stacking\n",
    "- horizontal \n",
    "- vertical"
   ]
  },
  {
   "cell_type": "code",
   "execution_count": 86,
   "metadata": {},
   "outputs": [],
   "source": [
    "a = np.arange(9).reshape(3,3)\n",
    "\n",
    "b = np.arange(20,29).reshape(3,3)\n"
   ]
  },
  {
   "cell_type": "code",
   "execution_count": 87,
   "metadata": {},
   "outputs": [
    {
     "data": {
      "text/plain": [
       "array([[ 0,  1,  2],\n",
       "       [ 3,  4,  5],\n",
       "       [ 6,  7,  8],\n",
       "       [20, 21, 22],\n",
       "       [23, 24, 25],\n",
       "       [26, 27, 28]])"
      ]
     },
     "execution_count": 87,
     "metadata": {},
     "output_type": "execute_result"
    }
   ],
   "source": [
    "np.vstack((a,b)) #Vertical Stacking"
   ]
  },
  {
   "cell_type": "code",
   "execution_count": 88,
   "metadata": {},
   "outputs": [
    {
     "data": {
      "text/plain": [
       "array([[ 0,  1,  2, 20, 21, 22],\n",
       "       [ 3,  4,  5, 23, 24, 25],\n",
       "       [ 6,  7,  8, 26, 27, 28]])"
      ]
     },
     "execution_count": 88,
     "metadata": {},
     "output_type": "execute_result"
    }
   ],
   "source": [
    "np.hstack((a,b)) #Horizontal Stacking"
   ]
  }
 ],
 "metadata": {
  "kernelspec": {
   "display_name": "Python 3",
   "language": "python",
   "name": "python3"
  },
  "language_info": {
   "codemirror_mode": {
    "name": "ipython",
    "version": 3
   },
   "file_extension": ".py",
   "mimetype": "text/x-python",
   "name": "python",
   "nbconvert_exporter": "python",
   "pygments_lexer": "ipython3",
   "version": "3.7.6"
  }
 },
 "nbformat": 4,
 "nbformat_minor": 2
}
